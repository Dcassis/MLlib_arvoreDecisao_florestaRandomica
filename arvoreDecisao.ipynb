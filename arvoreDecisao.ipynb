{
 "cells": [
  {
   "cell_type": "code",
   "execution_count": 136,
   "metadata": {},
   "outputs": [],
   "source": [
    "from pyspark.sql import SparkSession"
   ]
  },
  {
   "cell_type": "code",
   "execution_count": 137,
   "metadata": {},
   "outputs": [],
   "source": [
    "spark = SparkSession.builder.appName(\"Arvore de Decisao\").getOrCreate()"
   ]
  },
  {
   "cell_type": "code",
   "execution_count": 138,
   "metadata": {},
   "outputs": [],
   "source": [
    "diretorioArvore = \"./Iris.csv\""
   ]
  },
  {
   "cell_type": "code",
   "execution_count": 139,
   "metadata": {},
   "outputs": [],
   "source": [
    "df_iris = spark.read.format('csv').options(inferSchema=True,header='false',delimiter=',').load(diretorioArvore)"
   ]
  },
  {
   "cell_type": "code",
   "execution_count": 140,
   "metadata": {},
   "outputs": [
    {
     "name": "stdout",
     "output_type": "stream",
     "text": [
      "root\n",
      " |-- _c0: string (nullable = true)\n",
      " |-- _c1: string (nullable = true)\n",
      " |-- _c2: string (nullable = true)\n",
      " |-- _c3: string (nullable = true)\n",
      " |-- _c4: string (nullable = true)\n",
      " |-- _c5: string (nullable = true)\n",
      "\n"
     ]
    }
   ],
   "source": [
    "df_iris.printSchema()"
   ]
  },
  {
   "cell_type": "code",
   "execution_count": 141,
   "metadata": {},
   "outputs": [
    {
     "name": "stdout",
     "output_type": "stream",
     "text": [
      "+---+-------------+------------+-------------+------------+-----------+\n",
      "|_c0|          _c1|         _c2|          _c3|         _c4|        _c5|\n",
      "+---+-------------+------------+-------------+------------+-----------+\n",
      "| Id|SepalLengthCm|SepalWidthCm|PetalLengthCm|PetalWidthCm|    Species|\n",
      "|  1|          5.1|         3.5|          1.4|         0.2|Iris-setosa|\n",
      "|  2|          4.9|         3.0|          1.4|         0.2|Iris-setosa|\n",
      "|  3|          4.7|         3.2|          1.3|         0.2|Iris-setosa|\n",
      "|  4|          4.6|         3.1|          1.5|         0.2|Iris-setosa|\n",
      "|  5|          5.0|         3.6|          1.4|         0.2|Iris-setosa|\n",
      "|  6|          5.4|         3.9|          1.7|         0.4|Iris-setosa|\n",
      "|  7|          4.6|         3.4|          1.4|         0.3|Iris-setosa|\n",
      "|  8|          5.0|         3.4|          1.5|         0.2|Iris-setosa|\n",
      "|  9|          4.4|         2.9|          1.4|         0.2|Iris-setosa|\n",
      "| 10|          4.9|         3.1|          1.5|         0.1|Iris-setosa|\n",
      "| 11|          5.4|         3.7|          1.5|         0.2|Iris-setosa|\n",
      "| 12|          4.8|         3.4|          1.6|         0.2|Iris-setosa|\n",
      "| 13|          4.8|         3.0|          1.4|         0.1|Iris-setosa|\n",
      "| 14|          4.3|         3.0|          1.1|         0.1|Iris-setosa|\n",
      "| 15|          5.8|         4.0|          1.2|         0.2|Iris-setosa|\n",
      "| 16|          5.7|         4.4|          1.5|         0.4|Iris-setosa|\n",
      "| 17|          5.4|         3.9|          1.3|         0.4|Iris-setosa|\n",
      "| 18|          5.1|         3.5|          1.4|         0.3|Iris-setosa|\n",
      "| 19|          5.7|         3.8|          1.7|         0.3|Iris-setosa|\n",
      "+---+-------------+------------+-------------+------------+-----------+\n",
      "only showing top 20 rows\n",
      "\n"
     ]
    }
   ],
   "source": [
    "df_iris.show()"
   ]
  },
  {
   "cell_type": "code",
   "execution_count": 142,
   "metadata": {},
   "outputs": [],
   "source": [
    "df_iris = df_iris.selectExpr(\"_c1 as sep_len\", \"_c2 as sep_wid\", \"_c3 as pet_len\", \"_c4 as pet_wid\", \"_c5 as label\")"
   ]
  },
  {
   "cell_type": "code",
   "execution_count": 143,
   "metadata": {},
   "outputs": [
    {
     "name": "stdout",
     "output_type": "stream",
     "text": [
      "+-------------+------------+-------------+------------+-----------+\n",
      "|      sep_len|     sep_wid|      pet_len|     pet_wid|      label|\n",
      "+-------------+------------+-------------+------------+-----------+\n",
      "|SepalLengthCm|SepalWidthCm|PetalLengthCm|PetalWidthCm|    Species|\n",
      "|          5.1|         3.5|          1.4|         0.2|Iris-setosa|\n",
      "|          4.9|         3.0|          1.4|         0.2|Iris-setosa|\n",
      "|          4.7|         3.2|          1.3|         0.2|Iris-setosa|\n",
      "|          4.6|         3.1|          1.5|         0.2|Iris-setosa|\n",
      "+-------------+------------+-------------+------------+-----------+\n",
      "only showing top 5 rows\n",
      "\n"
     ]
    }
   ],
   "source": [
    "df_iris.show(5)"
   ]
  },
  {
   "cell_type": "code",
   "execution_count": 144,
   "metadata": {},
   "outputs": [
    {
     "name": "stdout",
     "output_type": "stream",
     "text": [
      "+-------+------------------+-------------------+------------------+------------------+-----------+\n",
      "|summary|           sep_len|            sep_wid|           pet_len|           pet_wid|      label|\n",
      "+-------+------------------+-------------------+------------------+------------------+-----------+\n",
      "|  count|               151|                151|               151|               151|        151|\n",
      "|   mean| 5.843333333333335| 3.0540000000000007|3.7586666666666693|1.1986666666666672|       NULL|\n",
      "| stddev|0.8280661279778637|0.43359431136217375| 1.764420419952262|0.7631607417008414|       NULL|\n",
      "|    min|               4.3|                2.0|               1.0|               0.1|Iris-setosa|\n",
      "|    max|     SepalLengthCm|       SepalWidthCm|     PetalLengthCm|      PetalWidthCm|    Species|\n",
      "+-------+------------------+-------------------+------------------+------------------+-----------+\n",
      "\n"
     ]
    }
   ],
   "source": [
    "df_iris.describe(['sep_len', 'sep_wid', 'pet_len', 'pet_wid', 'label']).show() #ENCONTRANDO A ESTATÍSTICA"
   ]
  },
  {
   "cell_type": "code",
   "execution_count": 145,
   "metadata": {},
   "outputs": [],
   "source": [
    "df_iris.createOrReplaceTempView(\"irisTable\")"
   ]
  },
  {
   "cell_type": "code",
   "execution_count": 146,
   "metadata": {},
   "outputs": [
    {
     "data": {
      "text/plain": [
       "DataFrame[sep_len: string, sep_wid: string, pet_len: string, pet_wid: string, label: string]"
      ]
     },
     "metadata": {},
     "output_type": "display_data"
    }
   ],
   "source": [
    "display(spark.sql('select * from irisTable'))"
   ]
  },
  {
   "cell_type": "markdown",
   "metadata": {},
   "source": [
    "CONSTRUÇÃO DA ÁRVORE DE DECISÃO"
   ]
  },
  {
   "cell_type": "code",
   "execution_count": 147,
   "metadata": {},
   "outputs": [],
   "source": [
    "from pyspark.ml.linalg import Vectors\n",
    "from pyspark.ml.feature import VectorAssembler"
   ]
  },
  {
   "cell_type": "code",
   "execution_count": 148,
   "metadata": {},
   "outputs": [
    {
     "name": "stdout",
     "output_type": "stream",
     "text": [
      "root\n",
      " |-- sep_len: float (nullable = true)\n",
      " |-- sep_wid: float (nullable = true)\n",
      " |-- pet_len: float (nullable = true)\n",
      " |-- pet_wid: float (nullable = true)\n",
      " |-- label: string (nullable = true)\n",
      "\n",
      "+-------+-------+-------+-------+-----------+\n",
      "|sep_len|sep_wid|pet_len|pet_wid|      label|\n",
      "+-------+-------+-------+-------+-----------+\n",
      "|   NULL|   NULL|   NULL|   NULL|    Species|\n",
      "|    5.1|    3.5|    1.4|    0.2|Iris-setosa|\n",
      "|    4.9|    3.0|    1.4|    0.2|Iris-setosa|\n",
      "|    4.7|    3.2|    1.3|    0.2|Iris-setosa|\n",
      "|    4.6|    3.1|    1.5|    0.2|Iris-setosa|\n",
      "|    5.0|    3.6|    1.4|    0.2|Iris-setosa|\n",
      "|    5.4|    3.9|    1.7|    0.4|Iris-setosa|\n",
      "|    4.6|    3.4|    1.4|    0.3|Iris-setosa|\n",
      "|    5.0|    3.4|    1.5|    0.2|Iris-setosa|\n",
      "|    4.4|    2.9|    1.4|    0.2|Iris-setosa|\n",
      "|    4.9|    3.1|    1.5|    0.1|Iris-setosa|\n",
      "|    5.4|    3.7|    1.5|    0.2|Iris-setosa|\n",
      "|    4.8|    3.4|    1.6|    0.2|Iris-setosa|\n",
      "|    4.8|    3.0|    1.4|    0.1|Iris-setosa|\n",
      "|    4.3|    3.0|    1.1|    0.1|Iris-setosa|\n",
      "|    5.8|    4.0|    1.2|    0.2|Iris-setosa|\n",
      "|    5.7|    4.4|    1.5|    0.4|Iris-setosa|\n",
      "|    5.4|    3.9|    1.3|    0.4|Iris-setosa|\n",
      "|    5.1|    3.5|    1.4|    0.3|Iris-setosa|\n",
      "|    5.7|    3.8|    1.7|    0.3|Iris-setosa|\n",
      "+-------+-------+-------+-------+-----------+\n",
      "only showing top 20 rows\n",
      "\n",
      "+-------+-------+-------+-------+-----------+--------------------+\n",
      "|sep_len|sep_wid|pet_len|pet_wid|      label|            features|\n",
      "+-------+-------+-------+-------+-----------+--------------------+\n",
      "|    5.1|    3.5|    1.4|    0.2|Iris-setosa|[5.09999990463256...|\n",
      "|    4.9|    3.0|    1.4|    0.2|Iris-setosa|[4.90000009536743...|\n",
      "|    4.7|    3.2|    1.3|    0.2|Iris-setosa|[4.69999980926513...|\n",
      "|    4.6|    3.1|    1.5|    0.2|Iris-setosa|[4.59999990463256...|\n",
      "|    5.0|    3.6|    1.4|    0.2|Iris-setosa|[5.0,3.5999999046...|\n",
      "|    5.4|    3.9|    1.7|    0.4|Iris-setosa|[5.40000009536743...|\n",
      "|    4.6|    3.4|    1.4|    0.3|Iris-setosa|[4.59999990463256...|\n",
      "|    5.0|    3.4|    1.5|    0.2|Iris-setosa|[5.0,3.4000000953...|\n",
      "|    4.4|    2.9|    1.4|    0.2|Iris-setosa|[4.40000009536743...|\n",
      "|    4.9|    3.1|    1.5|    0.1|Iris-setosa|[4.90000009536743...|\n",
      "|    5.4|    3.7|    1.5|    0.2|Iris-setosa|[5.40000009536743...|\n",
      "|    4.8|    3.4|    1.6|    0.2|Iris-setosa|[4.80000019073486...|\n",
      "|    4.8|    3.0|    1.4|    0.1|Iris-setosa|[4.80000019073486...|\n",
      "|    4.3|    3.0|    1.1|    0.1|Iris-setosa|[4.30000019073486...|\n",
      "|    5.8|    4.0|    1.2|    0.2|Iris-setosa|[5.80000019073486...|\n",
      "|    5.7|    4.4|    1.5|    0.4|Iris-setosa|[5.69999980926513...|\n",
      "|    5.4|    3.9|    1.3|    0.4|Iris-setosa|[5.40000009536743...|\n",
      "|    5.1|    3.5|    1.4|    0.3|Iris-setosa|[5.09999990463256...|\n",
      "|    5.7|    3.8|    1.7|    0.3|Iris-setosa|[5.69999980926513...|\n",
      "|    5.1|    3.8|    1.5|    0.3|Iris-setosa|[5.09999990463256...|\n",
      "+-------+-------+-------+-------+-----------+--------------------+\n",
      "only showing top 20 rows\n",
      "\n"
     ]
    }
   ],
   "source": [
    "from pyspark.sql.functions import col\n",
    "\n",
    "\n",
    "df_iris = df_iris.select(\n",
    "    col(\"sep_len\").cast(\"float\").alias(\"sep_len\"),\n",
    "    col(\"sep_wid\").cast(\"float\").alias(\"sep_wid\"),\n",
    "    col(\"pet_len\").cast(\"float\").alias(\"pet_len\"),\n",
    "    col(\"pet_wid\").cast(\"float\").alias(\"pet_wid\"),\n",
    "    col(\"label\")\n",
    ")\n",
    "\n",
    "# Verificação das conversões\n",
    "df_iris.printSchema()\n",
    "df_iris.show()\n",
    "\n",
    "# Remover linhas onde qualquer coluna numérica é nula\n",
    "df_iris = df_iris.dropna(subset=[\"sep_len\", \"sep_wid\", \"pet_len\", \"pet_wid\"])\n",
    "\n",
    "# Usar o VectorAssembler para criar a coluna de features\n",
    "vector_assembler = VectorAssembler(inputCols=['sep_len', 'sep_wid', 'pet_len', 'pet_wid'], outputCol=\"features\")\n",
    "df_temp = vector_assembler.transform(df_iris)\n",
    "\n",
    "# Mostrar o DataFrame resultante\n",
    "df_temp.show()"
   ]
  },
  {
   "cell_type": "code",
   "execution_count": 149,
   "metadata": {},
   "outputs": [
    {
     "name": "stdout",
     "output_type": "stream",
     "text": [
      "+-------+-------+-------+-------+-----------+--------------------+\n",
      "|sep_len|sep_wid|pet_len|pet_wid|      label|            features|\n",
      "+-------+-------+-------+-------+-----------+--------------------+\n",
      "|    5.1|    3.5|    1.4|    0.2|Iris-setosa|[5.09999990463256...|\n",
      "|    4.9|    3.0|    1.4|    0.2|Iris-setosa|[4.90000009536743...|\n",
      "|    4.7|    3.2|    1.3|    0.2|Iris-setosa|[4.69999980926513...|\n",
      "|    4.6|    3.1|    1.5|    0.2|Iris-setosa|[4.59999990463256...|\n",
      "|    5.0|    3.6|    1.4|    0.2|Iris-setosa|[5.0,3.5999999046...|\n",
      "+-------+-------+-------+-------+-----------+--------------------+\n",
      "only showing top 5 rows\n",
      "\n"
     ]
    }
   ],
   "source": [
    "vector_assembler = VectorAssembler(inputCols=['sep_len', 'sep_wid', 'pet_len', 'pet_wid'], outputCol=\"features\")\n",
    "df_temp = vector_assembler.transform(df_iris)\n",
    "df_temp.show(5)"
   ]
  },
  {
   "cell_type": "code",
   "execution_count": 150,
   "metadata": {},
   "outputs": [
    {
     "name": "stdout",
     "output_type": "stream",
     "text": [
      "+-----------+--------------------+\n",
      "|      label|            features|\n",
      "+-----------+--------------------+\n",
      "|Iris-setosa|[5.09999990463256...|\n",
      "|Iris-setosa|[4.90000009536743...|\n",
      "|Iris-setosa|[4.69999980926513...|\n",
      "|Iris-setosa|[4.59999990463256...|\n",
      "|Iris-setosa|[5.0,3.5999999046...|\n",
      "+-----------+--------------------+\n",
      "only showing top 5 rows\n",
      "\n"
     ]
    }
   ],
   "source": [
    "# removendo colunas que não serão utilizadas\n",
    "\n",
    "df_menor = df_temp.drop('sep_len', 'sep_wid', 'pet_len', 'pet_wid')\n",
    "df_menor.show(5)"
   ]
  },
  {
   "cell_type": "code",
   "execution_count": 151,
   "metadata": {},
   "outputs": [],
   "source": [
    "from pyspark.ml.feature import StringIndexer # cria o 'vetor' para cada uma das classes existentes na coluna label\n",
    "\n",
    "l_indexer = StringIndexer(inputCol='label', outputCol='labelIndex')\n",
    "df_final = l_indexer.fit(df_menor).transform(df_menor)"
   ]
  },
  {
   "cell_type": "code",
   "execution_count": 152,
   "metadata": {},
   "outputs": [
    {
     "name": "stdout",
     "output_type": "stream",
     "text": [
      "+-----------+--------------------+----------+\n",
      "|      label|            features|labelIndex|\n",
      "+-----------+--------------------+----------+\n",
      "|Iris-setosa|[5.09999990463256...|       0.0|\n",
      "|Iris-setosa|[4.90000009536743...|       0.0|\n",
      "|Iris-setosa|[4.69999980926513...|       0.0|\n",
      "|Iris-setosa|[4.59999990463256...|       0.0|\n",
      "|Iris-setosa|[5.0,3.5999999046...|       0.0|\n",
      "+-----------+--------------------+----------+\n",
      "only showing top 5 rows\n",
      "\n"
     ]
    }
   ],
   "source": [
    "df_final.show(5)"
   ]
  },
  {
   "cell_type": "code",
   "execution_count": 153,
   "metadata": {},
   "outputs": [],
   "source": [
    "#dividindo entre dados de treinamento e teste\n",
    "\n",
    "(train, test) = df_final.randomSplit([0.7,0.3])"
   ]
  },
  {
   "cell_type": "code",
   "execution_count": 154,
   "metadata": {},
   "outputs": [
    {
     "name": "stdout",
     "output_type": "stream",
     "text": [
      "+-----------+--------------------+----------+\n",
      "|      label|            features|labelIndex|\n",
      "+-----------+--------------------+----------+\n",
      "|Iris-setosa|[4.40000009536743...|       0.0|\n",
      "|Iris-setosa|[4.5,2.2999999523...|       0.0|\n",
      "|Iris-setosa|[4.69999980926513...|       0.0|\n",
      "|Iris-setosa|[4.80000019073486...|       0.0|\n",
      "|Iris-setosa|[4.80000019073486...|       0.0|\n",
      "+-----------+--------------------+----------+\n",
      "only showing top 5 rows\n",
      "\n"
     ]
    }
   ],
   "source": [
    "test.show(5)"
   ]
  },
  {
   "cell_type": "code",
   "execution_count": 155,
   "metadata": {},
   "outputs": [],
   "source": [
    "from pyspark.ml.classification import DecisionTreeClassifier #biblioteca para o algorítimo da árvore de decisão\n",
    "from pyspark.ml.evaluation import MulticlassClassificationEvaluator # utilizada para encontrar métodos de desempenho"
   ]
  },
  {
   "cell_type": "code",
   "execution_count": 156,
   "metadata": {},
   "outputs": [],
   "source": [
    "modeloArvore = DecisionTreeClassifier(labelCol=\"labelIndex\", featuresCol=\"features\")\n",
    "model = modeloArvore.fit(train) #aplicando o treinamento"
   ]
  },
  {
   "cell_type": "code",
   "execution_count": 157,
   "metadata": {},
   "outputs": [
    {
     "name": "stdout",
     "output_type": "stream",
     "text": [
      "+----------+----------+\n",
      "|prediction|labelIndex|\n",
      "+----------+----------+\n",
      "|       0.0|       0.0|\n",
      "|       0.0|       0.0|\n",
      "|       0.0|       0.0|\n",
      "|       0.0|       0.0|\n",
      "|       0.0|       0.0|\n",
      "+----------+----------+\n",
      "only showing top 5 rows\n",
      "\n"
     ]
    }
   ],
   "source": [
    "predictions = model.transform(test)\n",
    "predictions.select(\"prediction\", \"labelIndex\").show(5)"
   ]
  },
  {
   "cell_type": "code",
   "execution_count": 158,
   "metadata": {},
   "outputs": [],
   "source": [
    "avaliacao = MulticlassClassificationEvaluator(labelCol=\"labelIndex\", predictionCol=\"prediction\", metricName=\"accuracy\")"
   ]
  },
  {
   "cell_type": "code",
   "execution_count": 159,
   "metadata": {},
   "outputs": [
    {
     "name": "stdout",
     "output_type": "stream",
     "text": [
      "Acurácia do Modelo =  0.9111111111111111\n"
     ]
    }
   ],
   "source": [
    "acuracia = avaliacao.evaluate(predictions)\n",
    "print(\"Acurácia do Modelo = \",(acuracia))"
   ]
  },
  {
   "cell_type": "markdown",
   "metadata": {},
   "source": [
    "APLICAÇÃO DA FLORESTA RANDÔMICA"
   ]
  },
  {
   "cell_type": "code",
   "execution_count": 160,
   "metadata": {},
   "outputs": [],
   "source": [
    "from pyspark.ml.classification import RandomForestClassifier"
   ]
  },
  {
   "cell_type": "code",
   "execution_count": 161,
   "metadata": {},
   "outputs": [],
   "source": [
    "modeloRF = RandomForestClassifier(labelCol=\"labelIndex\", featuresCol=\"features\", numTrees=10)\n",
    "modelRF = modeloRF.fit(train)"
   ]
  },
  {
   "cell_type": "code",
   "execution_count": 162,
   "metadata": {},
   "outputs": [
    {
     "name": "stdout",
     "output_type": "stream",
     "text": [
      "+----------+----------+\n",
      "|prediction|labelIndex|\n",
      "+----------+----------+\n",
      "|       0.0|       0.0|\n",
      "|       0.0|       0.0|\n",
      "|       0.0|       0.0|\n",
      "|       0.0|       0.0|\n",
      "|       0.0|       0.0|\n",
      "+----------+----------+\n",
      "only showing top 5 rows\n",
      "\n"
     ]
    }
   ],
   "source": [
    "# realizando previsão\n",
    "\n",
    "predictions = modelRF.transform(test)\n",
    "predictions.select(\"prediction\", \"labelIndex\").show(5)"
   ]
  },
  {
   "cell_type": "code",
   "execution_count": 163,
   "metadata": {},
   "outputs": [
    {
     "name": "stdout",
     "output_type": "stream",
     "text": [
      "Acurácia do Modelo =  0.9111111111111111\n"
     ]
    }
   ],
   "source": [
    "avaliacao = MulticlassClassificationEvaluator(labelCol=\"labelIndex\", predictionCol=\"prediction\", metricName=\"accuracy\")\n",
    "print(\"Acurácia do Modelo = \", (acuracia))"
   ]
  },
  {
   "cell_type": "code",
   "execution_count": 164,
   "metadata": {},
   "outputs": [
    {
     "name": "stdout",
     "output_type": "stream",
     "text": [
      "RandomForestClassificationModel: uid=RandomForestClassifier_d305f4899d1c, numTrees=10, numClasses=3, numFeatures=4\n"
     ]
    }
   ],
   "source": [
    "print(modelRF)"
   ]
  }
 ],
 "metadata": {
  "kernelspec": {
   "display_name": "Python 3",
   "language": "python",
   "name": "python3"
  },
  "language_info": {
   "codemirror_mode": {
    "name": "ipython",
    "version": 3
   },
   "file_extension": ".py",
   "mimetype": "text/x-python",
   "name": "python",
   "nbconvert_exporter": "python",
   "pygments_lexer": "ipython3",
   "version": "3.12.3"
  }
 },
 "nbformat": 4,
 "nbformat_minor": 2
}
